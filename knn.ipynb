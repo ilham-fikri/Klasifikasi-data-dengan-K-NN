{
  "nbformat": 4,
  "nbformat_minor": 0,
  "metadata": {
    "colab": {
      "name": "knn.ipynb",
      "provenance": [],
      "authorship_tag": "ABX9TyPls7Q8M58ZZTThMEKBbXDZ",
      "include_colab_link": true
    },
    "kernelspec": {
      "name": "python3",
      "display_name": "Python 3"
    },
    "language_info": {
      "name": "python"
    }
  },
  "cells": [
    {
      "cell_type": "markdown",
      "metadata": {
        "id": "view-in-github",
        "colab_type": "text"
      },
      "source": [
        "<a href=\"https://colab.research.google.com/github/ilham-fikri/Klasifikasi-data-dengan-K-NN/blob/main/knn.ipynb\" target=\"_parent\"><img src=\"https://colab.research.google.com/assets/colab-badge.svg\" alt=\"Open In Colab\"/></a>"
      ]
    },
    {
      "cell_type": "code",
      "metadata": {
        "id": "FrBhzpWQDSXI"
      },
      "source": [
        "import numpy as np\n",
        "import matplotlib.pyplot as plt\n",
        "import pandas as pd"
      ],
      "execution_count": null,
      "outputs": []
    },
    {
      "cell_type": "code",
      "metadata": {
        "id": "cyoqbmnfEXrw"
      },
      "source": [
        "dataset = pd.read_csv(\"pencemaran.csv\")"
      ],
      "execution_count": null,
      "outputs": []
    },
    {
      "cell_type": "code",
      "metadata": {
        "colab": {
          "base_uri": "https://localhost:8080/",
          "height": 204
        },
        "id": "loWgpK7TEdln",
        "outputId": "9fe4260a-59aa-4fc2-e6aa-b39f6d7f8f2b"
      },
      "source": [
        "dataset.head()"
      ],
      "execution_count": null,
      "outputs": [
        {
          "output_type": "execute_result",
          "data": {
            "text/html": [
              "<div>\n",
              "<style scoped>\n",
              "    .dataframe tbody tr th:only-of-type {\n",
              "        vertical-align: middle;\n",
              "    }\n",
              "\n",
              "    .dataframe tbody tr th {\n",
              "        vertical-align: top;\n",
              "    }\n",
              "\n",
              "    .dataframe thead th {\n",
              "        text-align: right;\n",
              "    }\n",
              "</style>\n",
              "<table border=\"1\" class=\"dataframe\">\n",
              "  <thead>\n",
              "    <tr style=\"text-align: right;\">\n",
              "      <th></th>\n",
              "      <th>tanggal</th>\n",
              "      <th>status</th>\n",
              "      <th>so2</th>\n",
              "      <th>co</th>\n",
              "      <th>keterangan</th>\n",
              "    </tr>\n",
              "  </thead>\n",
              "  <tbody>\n",
              "    <tr>\n",
              "      <th>0</th>\n",
              "      <td>2013-07-01</td>\n",
              "      <td>baik</td>\n",
              "      <td>30</td>\n",
              "      <td>31</td>\n",
              "      <td>1</td>\n",
              "    </tr>\n",
              "    <tr>\n",
              "      <th>1</th>\n",
              "      <td>2013-07-02</td>\n",
              "      <td>baik</td>\n",
              "      <td>28</td>\n",
              "      <td>43</td>\n",
              "      <td>1</td>\n",
              "    </tr>\n",
              "    <tr>\n",
              "      <th>2</th>\n",
              "      <td>2013-07-03</td>\n",
              "      <td>buruk</td>\n",
              "      <td>16</td>\n",
              "      <td>43</td>\n",
              "      <td>0</td>\n",
              "    </tr>\n",
              "    <tr>\n",
              "      <th>3</th>\n",
              "      <td>2013-07-04</td>\n",
              "      <td>baik</td>\n",
              "      <td>29</td>\n",
              "      <td>51</td>\n",
              "      <td>1</td>\n",
              "    </tr>\n",
              "    <tr>\n",
              "      <th>4</th>\n",
              "      <td>2013-07-05</td>\n",
              "      <td>baik</td>\n",
              "      <td>40</td>\n",
              "      <td>49</td>\n",
              "      <td>1</td>\n",
              "    </tr>\n",
              "  </tbody>\n",
              "</table>\n",
              "</div>"
            ],
            "text/plain": [
              "      tanggal status  so2  co  keterangan\n",
              "0  2013-07-01   baik   30  31           1\n",
              "1  2013-07-02   baik   28  43           1\n",
              "2  2013-07-03  buruk   16  43           0\n",
              "3  2013-07-04   baik   29  51           1\n",
              "4  2013-07-05   baik   40  49           1"
            ]
          },
          "metadata": {
            "tags": []
          },
          "execution_count": 19
        }
      ]
    },
    {
      "cell_type": "code",
      "metadata": {
        "id": "yS38-KcxFGNp"
      },
      "source": [
        "x = dataset.iloc[:,[2,3]].values\n",
        "y = dataset.iloc[:, -1].values"
      ],
      "execution_count": null,
      "outputs": []
    },
    {
      "cell_type": "code",
      "metadata": {
        "colab": {
          "base_uri": "https://localhost:8080/"
        },
        "id": "dC9k5rCVFVRV",
        "outputId": "9786bc43-c2fe-4de7-db09-38e9df7df084"
      },
      "source": [
        "print(x)"
      ],
      "execution_count": null,
      "outputs": [
        {
          "output_type": "stream",
          "text": [
            "[[30 31]\n",
            " [28 43]\n",
            " [16 43]\n",
            " [29 51]\n",
            " [40 49]\n",
            " [22 46]\n",
            " [19 58]\n",
            " [36 98]\n",
            " [20 36]\n",
            " [14 37]\n",
            " [19 45]\n",
            " [28 45]\n",
            " [27 39]\n",
            " [13 32]\n",
            " [27 48]\n",
            " [31 43]\n",
            " [20 50]\n",
            " [19 45]\n",
            " [23 41]\n",
            " [19 39]\n",
            " [25 56]\n",
            " [21 40]\n",
            " [23 81]\n",
            " [30 46]\n",
            " [24 44]\n",
            " [19 25]\n",
            " [27 30]\n",
            " [23 58]\n",
            " [23 35]\n",
            " [37 35]\n",
            " [18 32]]\n"
          ],
          "name": "stdout"
        }
      ]
    },
    {
      "cell_type": "code",
      "metadata": {
        "colab": {
          "base_uri": "https://localhost:8080/"
        },
        "id": "xHRxMj2zFZFo",
        "outputId": "39dd3752-8f2e-4982-dfb9-3e6cf998f46c"
      },
      "source": [
        "print(y)"
      ],
      "execution_count": null,
      "outputs": [
        {
          "output_type": "stream",
          "text": [
            "[1 1 0 1 1 0 0 1 0 0 1 0 1 1 1 1 0 1 1 1 0 0 0 1 1 1 1 1 1 1 1]\n"
          ],
          "name": "stdout"
        }
      ]
    },
    {
      "cell_type": "code",
      "metadata": {
        "id": "-E_y6s0AFbvr"
      },
      "source": [
        "from sklearn.model_selection import train_test_split\n",
        "x_train, x_test, y_train, y_test = train_test_split(x,y,test_size=0.25, random_state=0)"
      ],
      "execution_count": null,
      "outputs": []
    },
    {
      "cell_type": "code",
      "metadata": {
        "colab": {
          "base_uri": "https://localhost:8080/"
        },
        "id": "pmT5oLr9Fmbg",
        "outputId": "7e0e2740-0aaf-469d-93c4-5d00e0ba0459"
      },
      "source": [
        "print(x_train)"
      ],
      "execution_count": null,
      "outputs": [
        {
          "output_type": "stream",
          "text": [
            "[[19 45]\n",
            " [30 46]\n",
            " [22 46]\n",
            " [20 50]\n",
            " [20 36]\n",
            " [27 48]\n",
            " [24 44]\n",
            " [25 56]\n",
            " [28 43]\n",
            " [18 32]\n",
            " [19 58]\n",
            " [40 49]\n",
            " [23 41]\n",
            " [23 35]\n",
            " [19 39]\n",
            " [14 37]\n",
            " [36 98]\n",
            " [27 30]\n",
            " [29 51]\n",
            " [30 31]\n",
            " [21 40]\n",
            " [31 43]\n",
            " [27 39]]\n"
          ],
          "name": "stdout"
        }
      ]
    },
    {
      "cell_type": "code",
      "metadata": {
        "colab": {
          "base_uri": "https://localhost:8080/"
        },
        "id": "4ZjhAClPFvWc",
        "outputId": "05c330be-6474-4b32-dbbd-63a4de9deffa"
      },
      "source": [
        "len(x_train)"
      ],
      "execution_count": null,
      "outputs": [
        {
          "output_type": "execute_result",
          "data": {
            "text/plain": [
              "23"
            ]
          },
          "metadata": {
            "tags": []
          },
          "execution_count": 25
        }
      ]
    },
    {
      "cell_type": "code",
      "metadata": {
        "colab": {
          "base_uri": "https://localhost:8080/"
        },
        "id": "9-wXNmWEF6gs",
        "outputId": "f4860e6e-dd2c-447d-a23c-24cab6436974"
      },
      "source": [
        "len(x)"
      ],
      "execution_count": null,
      "outputs": [
        {
          "output_type": "execute_result",
          "data": {
            "text/plain": [
              "31"
            ]
          },
          "metadata": {
            "tags": []
          },
          "execution_count": 26
        }
      ]
    },
    {
      "cell_type": "code",
      "metadata": {
        "colab": {
          "base_uri": "https://localhost:8080/"
        },
        "id": "_ufKhwqtGAU-",
        "outputId": "a5650e0b-ac40-471e-834b-209281358aaf"
      },
      "source": [
        "len(x_test)"
      ],
      "execution_count": null,
      "outputs": [
        {
          "output_type": "execute_result",
          "data": {
            "text/plain": [
              "8"
            ]
          },
          "metadata": {
            "tags": []
          },
          "execution_count": 27
        }
      ]
    },
    {
      "cell_type": "code",
      "metadata": {
        "id": "kv59EHOaGDIp"
      },
      "source": [
        "from sklearn.preprocessing import StandardScaler\n",
        "sc = StandardScaler()\n",
        "x_train = sc.fit_transform(x_train)\n",
        "x_test = sc.transform(x_test)"
      ],
      "execution_count": null,
      "outputs": []
    },
    {
      "cell_type": "code",
      "metadata": {
        "colab": {
          "base_uri": "https://localhost:8080/"
        },
        "id": "I_-54OFuGYxL",
        "outputId": "be267056-e9cf-41d0-b998-73c69d3f8030"
      },
      "source": [
        "print(x_train)"
      ],
      "execution_count": null,
      "outputs": [
        {
          "output_type": "stream",
          "text": [
            "[[-0.97672345 -0.00647836]\n",
            " [ 0.85372864  0.06802282]\n",
            " [-0.47750924  0.06802282]\n",
            " [-0.81031871  0.36602754]\n",
            " [-0.81031871 -0.67698899]\n",
            " [ 0.35451444  0.21702518]\n",
            " [-0.14469977 -0.08097954]\n",
            " [ 0.02170497  0.81303463]\n",
            " [ 0.52091917 -0.15548073]\n",
            " [-1.14312818 -0.97499372]\n",
            " [-0.97672345  0.96203699]\n",
            " [ 2.517776    0.29152636]\n",
            " [-0.31110451 -0.30448309]\n",
            " [-0.31110451 -0.75149017]\n",
            " [-0.97672345 -0.45348545]\n",
            " [-1.80874713 -0.60248781]\n",
            " [ 1.85215706  3.94208424]\n",
            " [ 0.35451444 -1.12399608]\n",
            " [ 0.68732391  0.44052872]\n",
            " [ 0.85372864 -1.0494949 ]\n",
            " [-0.64391398 -0.37898427]\n",
            " [ 1.02013338 -0.15548073]\n",
            " [ 0.35451444 -0.45348545]]\n"
          ],
          "name": "stdout"
        }
      ]
    },
    {
      "cell_type": "code",
      "metadata": {
        "id": "KBNHXZnqGgh9",
        "colab": {
          "base_uri": "https://localhost:8080/"
        },
        "outputId": "792a80af-f309-4521-a56a-d2138c4584e7"
      },
      "source": [
        "from sklearn.neighbors import KNeighborsClassifier \n",
        "classifier = KNeighborsClassifier(n_neighbors = 5, metric = 'minkowski', p =2)\n",
        "classifier.fit(x_train, y_train) "
      ],
      "execution_count": null,
      "outputs": [
        {
          "output_type": "execute_result",
          "data": {
            "text/plain": [
              "KNeighborsClassifier(algorithm='auto', leaf_size=30, metric='minkowski',\n",
              "                     metric_params=None, n_jobs=None, n_neighbors=5, p=2,\n",
              "                     weights='uniform')"
            ]
          },
          "metadata": {
            "tags": []
          },
          "execution_count": 32
        }
      ]
    },
    {
      "cell_type": "code",
      "metadata": {
        "id": "hRix-pQ2Kw2o"
      },
      "source": [
        "y_pred = classifier.predict(x_test)"
      ],
      "execution_count": null,
      "outputs": []
    },
    {
      "cell_type": "code",
      "metadata": {
        "colab": {
          "base_uri": "https://localhost:8080/"
        },
        "id": "strsJw0OLCRZ",
        "outputId": "8b5542e5-8d67-459b-8938-197832e6717e"
      },
      "source": [
        "from sklearn.metrics import confusion_matrix\n",
        "cm = confusion_matrix(y_test, y_pred)\n",
        "print(cm)"
      ],
      "execution_count": null,
      "outputs": [
        {
          "output_type": "stream",
          "text": [
            "[[2 1]\n",
            " [2 3]]\n"
          ],
          "name": "stdout"
        }
      ]
    },
    {
      "cell_type": "code",
      "metadata": {
        "id": "1PnMUsJuMCza",
        "colab": {
          "base_uri": "https://localhost:8080/",
          "height": 627
        },
        "outputId": "350eaa0d-955d-4b30-8ed6-f4cd6316665d"
      },
      "source": [
        "from matplotlib.colors import ListedColormap\n",
        "x_set, y_set = x_train, y_train\n",
        "x1, x2 = np.meshgrid(np.arange(start = x_set[:,0].min()-1, stop = x_set[:,0].max()+1, step= 0.01),\n",
        "np.arange(start = x_set[:,1].min()-1, stop = x_set[:,1].max()+1, step= 0.01))\n",
        "\n",
        "plt.contourf(x1, x2, classifier.predict(np.array([x1.ravel(), x2.ravel()]).T).reshape(x1.shape),\n",
        "                                        alpha= 0.75, cmap = ListedColormap(('red','green')))\n",
        "plt.xlim(x1.min(), x1.max())\n",
        "plt.xlim(x2.min(), x2.max())\n",
        "for i, j in enumerate(np.unique(y_set)):\n",
        "  plt.scatter(x_set[y_set ==j,0],x_set[y_set == j, 1],\n",
        "              c = ListedColormap(('red','green'))(i), label = j)\n",
        "  plt.title('Pencemaran gas CO2 dan CO')\n",
        "  plt.xlabel('Gas CO2')\n",
        "  plt.ylabel('Gas CO')\n",
        "  plt.legend()\n",
        "  plt.show()"
      ],
      "execution_count": 44,
      "outputs": [
        {
          "output_type": "stream",
          "text": [
            "*c* argument looks like a single numeric RGB or RGBA sequence, which should be avoided as value-mapping will have precedence in case its length matches with *x* & *y*.  Please use the *color* keyword-argument or provide a 2-D array with a single row if you intend to specify the same RGB or RGBA value for all points.\n"
          ],
          "name": "stderr"
        },
        {
          "output_type": "display_data",
          "data": {
            "image/png": "[encoded data removed]",
            "text/plain": [
              "<Figure size 432x288 with 1 Axes>"
            ]
          },
          "metadata": {
            "tags": [],
            "needs_background": "light"
          }
        },
        {
          "output_type": "stream",
          "text": [
            "*c* argument looks like a single numeric RGB or RGBA sequence, which should be avoided as value-mapping will have precedence in case its length matches with *x* & *y*.  Please use the *color* keyword-argument or provide a 2-D array with a single row if you intend to specify the same RGB or RGBA value for all points.\n"
          ],
          "name": "stderr"
        },
        {
          "output_type": "display_data",
          "data": {
            "image/png": "[encoded data removed]",
            "text/plain": [
              "<Figure size 432x288 with 1 Axes>"
            ]
          },
          "metadata": {
            "tags": [],
            "needs_background": "light"
          }
        }
      ]
    },
    {
      "cell_type": "code",
      "metadata": {
        "colab": {
          "base_uri": "https://localhost:8080/",
          "height": 627
        },
        "id": "hsLLwu9nQDiW",
        "outputId": "58c4b777-2327-4ed5-8c2e-40415a2538bb"
      },
      "source": [
        "from matplotlib.colors import ListedColormap\n",
        "x_set, y_set = x_test, y_test\n",
        "x1, x2 = np.meshgrid(np.arange(start = x_set[:,0].min()-1, stop = x_set[:,0].max()+1, step= 0.01),\n",
        "np.arange(start = x_set[:,1].min()-1, stop = x_set[:,1].max()+1, step= 0.01))\n",
        "\n",
        "plt.contourf(x1, x2, classifier.predict(np.array([x1.ravel(), x2.ravel()]).T).reshape(x1.shape),\n",
        "                                        alpha= 0.75, cmap = ListedColormap(('red','green')))\n",
        "plt.xlim(x1.min(), x1.max())\n",
        "plt.xlim(x2.min(), x2.max())\n",
        "for i, j in enumerate(np.unique(y_set)):\n",
        "  plt.scatter(x_set[y_set ==j,0],x_set[y_set == j, 1],\n",
        "              c = ListedColormap(('red','green'))(i), label = j)\n",
        "  plt.title('Pencemaran gas CO2 dan CO')\n",
        "  plt.xlabel('Gas CO2')\n",
        "  plt.ylabel('Gas CO')\n",
        "  plt.legend()\n",
        "  plt.show()"
      ],
      "execution_count": 45,
      "outputs": [
        {
          "output_type": "stream",
          "text": [
            "*c* argument looks like a single numeric RGB or RGBA sequence, which should be avoided as value-mapping will have precedence in case its length matches with *x* & *y*.  Please use the *color* keyword-argument or provide a 2-D array with a single row if you intend to specify the same RGB or RGBA value for all points.\n"
          ],
          "name": "stderr"
        },
        {
          "output_type": "display_data",
          "data": {
            "image/png": "[encoded data removed]",
            "text/plain": [
              "<Figure size 432x288 with 1 Axes>"
            ]
          },
          "metadata": {
            "tags": [],
            "needs_background": "light"
          }
        },
        {
          "output_type": "stream",
          "text": [
            "*c* argument looks like a single numeric RGB or RGBA sequence, which should be avoided as value-mapping will have precedence in case its length matches with *x* & *y*.  Please use the *color* keyword-argument or provide a 2-D array with a single row if you intend to specify the same RGB or RGBA value for all points.\n"
          ],
          "name": "stderr"
        },
        {
          "output_type": "display_data",
          "data": {
            "image/png": "[encoded data removed]",
            "text/plain": [
              "<Figure size 432x288 with 1 Axes>"
            ]
          },
          "metadata": {
            "tags": [],
            "needs_background": "light"
          }
        }
      ]
    }
  ]
}